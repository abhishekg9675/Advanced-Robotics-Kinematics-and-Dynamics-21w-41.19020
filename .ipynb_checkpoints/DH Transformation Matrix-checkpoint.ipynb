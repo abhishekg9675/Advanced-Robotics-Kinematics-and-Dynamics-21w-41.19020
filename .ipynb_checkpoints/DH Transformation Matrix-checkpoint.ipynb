{
 "cells": [
  {
   "cell_type": "code",
   "execution_count": 25,
   "id": "9b7cca59-31cf-42a4-97ea-282e015b83b6",
   "metadata": {},
   "outputs": [],
   "source": [
    "#!pip install sympy"
   ]
  },
  {
   "cell_type": "code",
   "execution_count": 38,
   "id": "e36327ec-a0a9-400d-aca6-2fc5507a23ec",
   "metadata": {},
   "outputs": [],
   "source": [
    "import sympy\n",
    "import numpy as np\n",
    "\n",
    "from Rotation_Matrix import *\n",
    "import Transformation_Matrix"
   ]
  },
  {
   "cell_type": "code",
   "execution_count": 39,
   "id": "b5082dab-779a-48a7-9805-7610de1ee881",
   "metadata": {},
   "outputs": [
    {
     "ename": "AttributeError",
     "evalue": "module 'Rotation_Matrix' has no attribute 'rotation_matrix'",
     "output_type": "error",
     "traceback": [
      "\u001b[1;31m---------------------------------------------------------------------------\u001b[0m",
      "\u001b[1;31mAttributeError\u001b[0m                            Traceback (most recent call last)",
      "Input \u001b[1;32mIn [39]\u001b[0m, in \u001b[0;36m<module>\u001b[1;34m\u001b[0m\n\u001b[1;32m----> 1\u001b[0m \u001b[38;5;28mprint\u001b[39m(\u001b[43mRotation_Matrix\u001b[49m\u001b[38;5;241;43m.\u001b[39;49m\u001b[43mrotation_matrix\u001b[49m(\u001b[38;5;124m'\u001b[39m\u001b[38;5;124mx\u001b[39m\u001b[38;5;124m'\u001b[39m, \u001b[38;5;241m90\u001b[39m))\n",
      "\u001b[1;31mAttributeError\u001b[0m: module 'Rotation_Matrix' has no attribute 'rotation_matrix'"
     ]
    }
   ],
   "source": [
    "print(Rotation_Matrix.rotation_matrix('x', 90))"
   ]
  },
  {
   "cell_type": "code",
   "execution_count": 40,
   "id": "c3da4f92-9d19-4646-bc23-4cc38bbd7801",
   "metadata": {},
   "outputs": [
    {
     "ename": "TypeError",
     "evalue": "transformation_matrix() missing 2 required positional arguments: 'axis' and 'angle'",
     "output_type": "error",
     "traceback": [
      "\u001b[1;31m---------------------------------------------------------------------------\u001b[0m",
      "\u001b[1;31mTypeError\u001b[0m                                 Traceback (most recent call last)",
      "Input \u001b[1;32mIn [40]\u001b[0m, in \u001b[0;36m<module>\u001b[1;34m\u001b[0m\n\u001b[1;32m----> 1\u001b[0m \u001b[43mtransformation_matrix\u001b[49m\u001b[43m(\u001b[49m\u001b[43m)\u001b[49m\n",
      "\u001b[1;31mTypeError\u001b[0m: transformation_matrix() missing 2 required positional arguments: 'axis' and 'angle'"
     ]
    }
   ],
   "source": [
    "transformation_matrix()"
   ]
  },
  {
   "cell_type": "code",
   "execution_count": null,
   "id": "b125d1a8-b7e2-4294-bb25-aff725ee6667",
   "metadata": {},
   "outputs": [],
   "source": []
  }
 ],
 "metadata": {
  "kernelspec": {
   "display_name": "Python 3 (ipykernel)",
   "language": "python",
   "name": "python3"
  },
  "language_info": {
   "codemirror_mode": {
    "name": "ipython",
    "version": 3
   },
   "file_extension": ".py",
   "mimetype": "text/x-python",
   "name": "python",
   "nbconvert_exporter": "python",
   "pygments_lexer": "ipython3",
   "version": "3.9.9"
  }
 },
 "nbformat": 4,
 "nbformat_minor": 5
}
