{
 "cells": [
  {
   "cell_type": "code",
   "execution_count": 1,
   "id": "9b7cca59-31cf-42a4-97ea-282e015b83b6",
   "metadata": {},
   "outputs": [],
   "source": [
    "#!pip install sympy"
   ]
  },
  {
   "cell_type": "code",
   "execution_count": 8,
   "id": "e36327ec-a0a9-400d-aca6-2fc5507a23ec",
   "metadata": {},
   "outputs": [],
   "source": [
    "import sympy\n",
    "import numpy as np\n",
    "\n",
    "import Rotation_Matrix \n",
    "import Transformation_Matrix"
   ]
  },
  {
   "cell_type": "code",
   "execution_count": 9,
   "id": "b5082dab-779a-48a7-9805-7610de1ee881",
   "metadata": {},
   "outputs": [
    {
     "name": "stdout",
     "output_type": "stream",
     "text": [
      "[[ 0. -1.  0.]\n",
      " [ 1.  0.  0.]\n",
      " [ 0.  0.  1.]]\n"
     ]
    }
   ],
   "source": [
    "print(Rotation_Matrix.rotation_matrix('z', 90))"
   ]
  },
  {
   "cell_type": "code",
   "execution_count": 10,
   "id": "c3da4f92-9d19-4646-bc23-4cc38bbd7801",
   "metadata": {},
   "outputs": [
    {
     "name": "stdout",
     "output_type": "stream",
     "text": [
      "[[ 1. -0.  0.  0.]\n",
      " [ 0.  1. -0.  0.]\n",
      " [ 0.  0.  1.  0.]\n",
      " [ 0.  0.  0.  1.]]\n"
     ]
    }
   ],
   "source": [
    "print(Transformation_Matrix.transformation_matrix(0,0,0,0))"
   ]
  },
  {
   "cell_type": "code",
   "execution_count": null,
   "id": "b125d1a8-b7e2-4294-bb25-aff725ee6667",
   "metadata": {},
   "outputs": [],
   "source": []
  }
 ],
 "metadata": {
  "kernelspec": {
   "display_name": "Python 3 (ipykernel)",
   "language": "python",
   "name": "python3"
  },
  "language_info": {
   "codemirror_mode": {
    "name": "ipython",
    "version": 3
   },
   "file_extension": ".py",
   "mimetype": "text/x-python",
   "name": "python",
   "nbconvert_exporter": "python",
   "pygments_lexer": "ipython3",
   "version": "3.9.9"
  }
 },
 "nbformat": 4,
 "nbformat_minor": 5
}
